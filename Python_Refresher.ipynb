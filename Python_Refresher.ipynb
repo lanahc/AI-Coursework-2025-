{
  "nbformat": 4,
  "nbformat_minor": 0,
  "metadata": {
    "colab": {
      "provenance": [],
      "authorship_tag": "ABX9TyMJu+2jn3XRuR+TD2o11OEa",
      "include_colab_link": true
    },
    "kernelspec": {
      "name": "python3",
      "display_name": "Python 3"
    },
    "language_info": {
      "name": "python"
    }
  },
  "cells": [
    {
      "cell_type": "markdown",
      "metadata": {
        "id": "view-in-github",
        "colab_type": "text"
      },
      "source": [
        "<a href=\"https://colab.research.google.com/github/lanahc/AI-Coursework-2025-/blob/main/Python_Refresher.ipynb\" target=\"_parent\"><img src=\"https://colab.research.google.com/assets/colab-badge.svg\" alt=\"Open In Colab\"/></a>"
      ]
    },
    {
      "cell_type": "code",
      "execution_count": null,
      "metadata": {
        "colab": {
          "base_uri": "https://localhost:8080/"
        },
        "id": "ntmLVDBQb9OK",
        "outputId": "148c0094-524a-409b-8ced-fe89bed2d28d"
      },
      "outputs": [
        {
          "output_type": "stream",
          "name": "stdout",
          "text": [
            "Enter number of days: 40\n",
            "40 days have 3456000 seconds.\n"
          ]
        }
      ],
      "source": [
        "# This prompts the user to enter the no.of days\n",
        "days = int(input(\"Enter number of days: \"))\n",
        "\n",
        "#this is basically = hours_in_day * minutes_in_hour * seconds_in_minute\n",
        "seconds = days*24*60*60\n",
        "\n",
        "#the output (_ days have _ seconds)\n",
        "print(f\"{days} days have {seconds} seconds.\")"
      ]
    },
    {
      "cell_type": "code",
      "source": [
        "#this is used to access the math operations in this case the \"pi\" and the (r^3)\n",
        "import math\n",
        "\n",
        "#user is required to input the radius of choice\n",
        "radius = float(input(\"Enter the radius of the sphere: \"))\n",
        "\n",
        "#the volume is computed once user enters the radius of choice\n",
        "volume = (4/3) * math.pi * (radius ** 3)\n",
        "\n",
        "#displays the volume of the sphere.\n",
        "print(f\"The volume of the sphere is {volume:.2f}\")\n",
        "\n",
        "\n",
        "\n"
      ],
      "metadata": {
        "colab": {
          "base_uri": "https://localhost:8080/"
        },
        "id": "F5H0dJyUcBe3",
        "outputId": "89b169dc-c433-4500-c576-b9a1514b566a"
      },
      "execution_count": null,
      "outputs": [
        {
          "output_type": "stream",
          "name": "stdout",
          "text": [
            "Enter the radius of the sphere: 6\n",
            "The volume of the sphere is 904.78\n"
          ]
        }
      ]
    },
    {
      "cell_type": "code",
      "source": [
        "#def defines the function in this case, the area of the required side;\n",
        "def area(side):\n",
        "    return side * side\n",
        "\n",
        "#for the perimeter\n",
        "def perimeter(side):\n",
        "    return 4 * side\n",
        "\n",
        "#user is required to input the length of choice\n",
        "side_length = float(input(\"Enter the side length of the square: \"))\n",
        "\n",
        "#prints and computes the area of the square\n",
        "print(f\"Area of square: {area(side_length)}\")\n",
        "\n",
        "#prints and computes the perimeter of the sqaure\n",
        "print(f\"Perimeter of square: {perimeter(side_length)}\")\n"
      ],
      "metadata": {
        "colab": {
          "base_uri": "https://localhost:8080/"
        },
        "id": "Mpf6tB6fiJKZ",
        "outputId": "19082775-1b46-4886-f7e8-c3f2cacc28f1"
      },
      "execution_count": null,
      "outputs": [
        {
          "output_type": "stream",
          "name": "stdout",
          "text": [
            "Enter the side length of the square: 7\n",
            "Area of square: 49.0\n",
            "Perimeter of square: 28.0\n"
          ]
        }
      ]
    },
    {
      "cell_type": "code",
      "source": [
        "#Defining function to check whether the character input is lowercase or uppercase using i-elif-else statement\n",
        "def check_case(ch):\n",
        "    #Checks if the character is uppercase using isupper() function and outputs uppercase if true\n",
        "    if ch.isupper():\n",
        "        return \"Uppercase\"\n",
        "    #Checks if the character is lowercase using islower() function and outputs lowercase if true\n",
        "    elif ch.islower():\n",
        "        return \"Lowercase\"\n",
        "    #If the input is not a character, then the following is displayed\n",
        "    else:\n",
        "        return \"Not a letter\"\n",
        "\n",
        "#Asks character input from the user\n",
        "char = input(\"Enter a character: \")\n",
        "#Outputs the case type of the character input\n",
        "print(f\"The character is: {check_case(char)}\")\n",
        "\n"
      ],
      "metadata": {
        "colab": {
          "base_uri": "https://localhost:8080/"
        },
        "id": "ySYH851zk9hG",
        "outputId": "73a1cc1b-f126-4c16-c5f2-86755b204ada"
      },
      "execution_count": null,
      "outputs": [
        {
          "output_type": "stream",
          "name": "stdout",
          "text": [
            "Enter a character: r\n",
            "The character is: Lowercase\n"
          ]
        }
      ]
    },
    {
      "cell_type": "code",
      "source": [
        "# declare and initialize x && y\n",
        "x = 0\n",
        "y = 20\n",
        "\n",
        "#while loop to ensure that y>=6, the result is -4 & x = the output of x +\n",
        "while y >= 6:\n",
        "    y = y - 4\n",
        "    x = x + (2 / y)\n",
        "\n",
        "#displays the final value\n",
        "print(f\"Final value of x: {x}\")\n",
        "\n"
      ],
      "metadata": {
        "colab": {
          "base_uri": "https://localhost:8080/"
        },
        "id": "zKNKCTITlyv6",
        "outputId": "60906686-36b2-4011-957b-029783b689fb"
      },
      "execution_count": null,
      "outputs": [
        {
          "output_type": "stream",
          "name": "stdout",
          "text": [
            "Final value of x: 1.0416666666666665\n"
          ]
        }
      ]
    },
    {
      "cell_type": "code",
      "source": [
        "#declares the values of arrays\n",
        "values = []\n",
        "\n",
        "#For loop to insert values in the array\n",
        "for i in range(5):\n",
        "    #Asks user for input for values in the array\n",
        "    num = float(input(f\"Enter value {i+1}: \"))\n",
        "    #Appends the each new nalue input to the array\n",
        "    values.append(num)\n",
        "\n",
        "#Calculates the average of the values using the sum and len function. The sum function adds the values while the len function finds the total number of values in the array.\n",
        "average = sum(values) / len(values)\n",
        "#Outputs the avarage of the values\n",
        "print(f\"The average of the entered values is {average:.2f}\")"
      ],
      "metadata": {
        "colab": {
          "base_uri": "https://localhost:8080/"
        },
        "id": "XFBHjLwn0NrN",
        "outputId": "4945171c-77ab-4868-8d87-ef9cdc956e75"
      },
      "execution_count": null,
      "outputs": [
        {
          "output_type": "stream",
          "name": "stdout",
          "text": [
            "Enter value 1: 4\n",
            "Enter value 2: 7\n",
            "Enter value 3: 9\n",
            "Enter value 4: 6\n",
            "Enter value 5: 9\n",
            "The average of the entered values is 7.00\n"
          ]
        }
      ]
    }
  ]
}